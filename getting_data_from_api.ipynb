{
  "cells": [
    {
      "cell_type": "markdown",
      "metadata": {
        "colab_type": "text",
        "id": "view-in-github"
      },
      "source": [
        "<a href=\"https://colab.research.google.com/github/anmoldeep1512/twitter_sentiment_analysis/blob/main/getting_data.ipynb\" target=\"_parent\"><img src=\"https://colab.research.google.com/assets/colab-badge.svg\" alt=\"Open In Colab\"/></a>"
      ]
    },
    {
      "cell_type": "markdown",
      "metadata": {
        "id": "SHWEuz1ueAYR"
      },
      "source": [
        "# If we are given an api endpoint, we can store the json data to csv"
      ]
    },
    {
      "cell_type": "code",
      "execution_count": 2,
      "metadata": {
        "colab": {
          "base_uri": "https://localhost:8080/"
        },
        "id": "4NxcuqykcnbE",
        "outputId": "b3578abd-f593-40d2-e26c-eec812cac750"
      },
      "outputs": [
        {
          "name": "stdout",
          "output_type": "stream",
          "text": [
            "{'exchanges': [{'quote': {'AUD': {'volume_24h': 15723697241.090717}, 'CAD': {'volume_24h': 13573528099.40313}, 'EUR': {'volume_24h': 10096201335.208282}, 'USD': {'volume_24h': 9849087724.207905}, 'GBP': {'volume_24h': 8700453811.953768}, 'JPY': {'volume_24h': 1465219233467.246}, 'NZD': {'volume_24h': 17544422181.42418}}, 'exchange_id': 'BINANCE', 'name': 'Binance', 'website': 'https://www.binance.com', 'volume_24h': 9849087724.207905}, {'quote': {'AUD': {'volume_24h': 1470270079.5005198}, 'CAD': {'volume_24h': 1269214990.0761905}, 'USD': {'volume_24h': 920955088.9491845}, 'GBP': {'volume_24h': 813550192.5312138}, 'JPY': {'volume_24h': 137007725717.70415}, 'EUR': {'volume_24h': 944061852.1309196}, 'NZD': {'volume_24h': 1640519948.9635978}}, 'exchange_id': 'COINBASE', 'name': 'Coinbase', 'website': 'https://pro.coinbase.com', 'volume_24h': 920955088.9491845}, {'quote': {'USD': {'volume_24h': 484696120.3541463}, 'NZD': {'volume_24h': 863401119.3026938}, 'JPY': {'volume_24h': 72106787736.72571}, 'EUR': {'volume_24h': 496857146.01383185}, 'CAD': {'volume_24h': 667984344.6950102}, 'AUD': {'volume_24h': 773799083.1016573}, 'GBP': {'volume_24h': 428169219.9379395}}, 'exchange_id': 'HUOBIGLOBAL', 'name': 'Huobi Global', 'website': 'https://www.huobi.com', 'volume_24h': 484696120.3541463}, {'quote': {'JPY': {'volume_24h': 49646072509.57811}, 'NZD': {'volume_24h': 594458246.1537187}, 'USD': {'volume_24h': 333716970.22577465}, 'EUR': {'volume_24h': 342089929.00873935}, 'GBP': {'volume_24h': 294797768.790105}, 'CAD': {'volume_24h': 459912308.57592183}, 'AUD': {'volume_24h': 532766561.8356717}}, 'exchange_id': 'KRAKEN', 'name': 'Kraken', 'website': 'https://www.kraken.com', 'volume_24h': 333716970.22577465}, {'quote': {'NZD': {'volume_24h': 110535439.91093683}, 'GBP': {'volume_24h': 54815626.27621572}, 'AUD': {'volume_24h': 99064293.68819834}, 'EUR': {'volume_24h': 63609279.60330491}, 'CAD': {'volume_24h': 85517544.21411188}, 'USD': {'volume_24h': 62052385.25720172}, 'JPY': {'volume_24h': 9231347197.558182}}, 'exchange_id': 'BITFINEX', 'name': 'Bitfinex', 'website': 'https://www.bitfinex.com', 'volume_24h': 62052385.25720172}, {'quote': {'USD': {'volume_24h': 32325579.028536487}, 'GBP': {'volume_24h': 28555660.70258166}, 'JPY': {'volume_24h': 4808979415.338316}, 'CAD': {'volume_24h': 44549522.51007634}, 'AUD': {'volume_24h': 51606568.244729124}, 'NZD': {'volume_24h': 57582348.90544103}, 'EUR': {'volume_24h': 33136627.80636247}}, 'exchange_id': 'POLONIEX', 'name': 'Poloniex', 'website': 'https://www.poloniex.com', 'volume_24h': 32325579.028536487}]}\n"
          ]
        }
      ],
      "source": [
        "import requests\n",
        "import json\n",
        "import pandas as pd\n",
        "\n",
        "data=requests.get(\"https://cryptingup.com/api/exchanges\")\n",
        "\n",
        "data=json.loads(data.content)\n",
        "#data.status_code\n",
        "print(data)\n",
        "#print(type(data[0]))"
      ]
    },
    {
      "cell_type": "code",
      "execution_count": 3,
      "metadata": {
        "colab": {
          "base_uri": "https://localhost:8080/"
        },
        "id": "TZQST1Cmx6Bt",
        "outputId": "2dcfc322-f4b9-4706-973b-3b83291b547b"
      },
      "outputs": [
        {
          "name": "stdout",
          "output_type": "stream",
          "text": [
            "[{'quote': {'AUD': {'volume_24h': 15723697241.090717}, 'CAD': {'volume_24h': 13573528099.40313}, 'EUR': {'volume_24h': 10096201335.208282}, 'USD': {'volume_24h': 9849087724.207905}, 'GBP': {'volume_24h': 8700453811.953768}, 'JPY': {'volume_24h': 1465219233467.246}, 'NZD': {'volume_24h': 17544422181.42418}}, 'exchange_id': 'BINANCE', 'name': 'Binance', 'website': 'https://www.binance.com', 'volume_24h': 9849087724.207905}, {'quote': {'AUD': {'volume_24h': 1470270079.5005198}, 'CAD': {'volume_24h': 1269214990.0761905}, 'USD': {'volume_24h': 920955088.9491845}, 'GBP': {'volume_24h': 813550192.5312138}, 'JPY': {'volume_24h': 137007725717.70415}, 'EUR': {'volume_24h': 944061852.1309196}, 'NZD': {'volume_24h': 1640519948.9635978}}, 'exchange_id': 'COINBASE', 'name': 'Coinbase', 'website': 'https://pro.coinbase.com', 'volume_24h': 920955088.9491845}, {'quote': {'USD': {'volume_24h': 484696120.3541463}, 'NZD': {'volume_24h': 863401119.3026938}, 'JPY': {'volume_24h': 72106787736.72571}, 'EUR': {'volume_24h': 496857146.01383185}, 'CAD': {'volume_24h': 667984344.6950102}, 'AUD': {'volume_24h': 773799083.1016573}, 'GBP': {'volume_24h': 428169219.9379395}}, 'exchange_id': 'HUOBIGLOBAL', 'name': 'Huobi Global', 'website': 'https://www.huobi.com', 'volume_24h': 484696120.3541463}, {'quote': {'JPY': {'volume_24h': 49646072509.57811}, 'NZD': {'volume_24h': 594458246.1537187}, 'USD': {'volume_24h': 333716970.22577465}, 'EUR': {'volume_24h': 342089929.00873935}, 'GBP': {'volume_24h': 294797768.790105}, 'CAD': {'volume_24h': 459912308.57592183}, 'AUD': {'volume_24h': 532766561.8356717}}, 'exchange_id': 'KRAKEN', 'name': 'Kraken', 'website': 'https://www.kraken.com', 'volume_24h': 333716970.22577465}, {'quote': {'NZD': {'volume_24h': 110535439.91093683}, 'GBP': {'volume_24h': 54815626.27621572}, 'AUD': {'volume_24h': 99064293.68819834}, 'EUR': {'volume_24h': 63609279.60330491}, 'CAD': {'volume_24h': 85517544.21411188}, 'USD': {'volume_24h': 62052385.25720172}, 'JPY': {'volume_24h': 9231347197.558182}}, 'exchange_id': 'BITFINEX', 'name': 'Bitfinex', 'website': 'https://www.bitfinex.com', 'volume_24h': 62052385.25720172}, {'quote': {'USD': {'volume_24h': 32325579.028536487}, 'GBP': {'volume_24h': 28555660.70258166}, 'JPY': {'volume_24h': 4808979415.338316}, 'CAD': {'volume_24h': 44549522.51007634}, 'AUD': {'volume_24h': 51606568.244729124}, 'NZD': {'volume_24h': 57582348.90544103}, 'EUR': {'volume_24h': 33136627.80636247}}, 'exchange_id': 'POLONIEX', 'name': 'Poloniex', 'website': 'https://www.poloniex.com', 'volume_24h': 32325579.028536487}]\n"
          ]
        }
      ],
      "source": [
        "data = data['exchanges']\n",
        "print(data)"
      ]
    },
    {
      "cell_type": "markdown",
      "metadata": {
        "id": "uc3099fGoglU"
      },
      "source": [
        "**adding the entire json into csv file**"
      ]
    },
    {
      "cell_type": "code",
      "execution_count": 4,
      "metadata": {
        "colab": {
          "base_uri": "https://localhost:8080/"
        },
        "id": "ne2UY_-bojAt",
        "outputId": "d391cce0-1c35-413b-c1f0-a77a2c411e6f"
      },
      "outputs": [
        {
          "name": "stdout",
          "output_type": "stream",
          "text": [
            "DataFrame:\n",
            "                                                quote  exchange_id  \\\n",
            "0  {'AUD': {'volume_24h': 15723697241.090717}, 'C...      BINANCE   \n",
            "1  {'AUD': {'volume_24h': 1470270079.5005198}, 'C...     COINBASE   \n",
            "2  {'USD': {'volume_24h': 484696120.3541463}, 'NZ...  HUOBIGLOBAL   \n",
            "3  {'JPY': {'volume_24h': 49646072509.57811}, 'NZ...       KRAKEN   \n",
            "4  {'NZD': {'volume_24h': 110535439.91093683}, 'G...     BITFINEX   \n",
            "5  {'USD': {'volume_24h': 32325579.028536487}, 'G...     POLONIEX   \n",
            "\n",
            "           name                   website    volume_24h  \n",
            "0       Binance   https://www.binance.com  9.849088e+09  \n",
            "1      Coinbase  https://pro.coinbase.com  9.209551e+08  \n",
            "2  Huobi Global     https://www.huobi.com  4.846961e+08  \n",
            "3        Kraken    https://www.kraken.com  3.337170e+08  \n",
            "4      Bitfinex  https://www.bitfinex.com  6.205239e+07  \n",
            "5      Poloniex  https://www.poloniex.com  3.232558e+07  \n"
          ]
        }
      ],
      "source": [
        "dataframe = pd.DataFrame(data)\n",
        "print('DataFrame:\\n', dataframe)\n",
        "\n",
        "dataframe.to_csv('dataframe1.csv',index=False)\n",
        "\n",
        "xyz=pd.read_csv('dataframe1.csv')\n"
      ]
    },
    {
      "cell_type": "markdown",
      "metadata": {
        "id": "bFKsQP1FoZ-V"
      },
      "source": [
        "**if any particular columns to be added from json**"
      ]
    },
    {
      "cell_type": "code",
      "execution_count": 5,
      "metadata": {
        "id": "ba4NLa2TodpT"
      },
      "outputs": [],
      "source": [
        "cat=[]\n",
        "ver=[]\n",
        "x=None\n",
        "y=None\n",
        "for item in data:\n",
        "    x=item['exchange_id']\n",
        "    y=item['website']\n",
        "    cat.append(y)\n",
        "    ver.append(x)\n",
        "    \n",
        "cat=pd.Series(cat)\n",
        "ver=pd.Series(ver)\n",
        "\n",
        "map_dataframe1=pd.concat([cat,ver],axis=1)\n",
        "headerList = ['website', 'exchange_id']\n",
        "\n",
        "map_dataframe1.to_csv('dataframe.csv', header=headerList, index=False)\n",
        "\n",
        "xyz1=pd.read_csv('dataframe.csv')"
      ]
    },
    {
      "cell_type": "markdown",
      "metadata": {
        "id": "DkOfNuHWrYFQ"
      },
      "source": [
        "**mapping two dataframes**"
      ]
    },
    {
      "cell_type": "code",
      "execution_count": 6,
      "metadata": {
        "id": "qtrifJeDrZ2y"
      },
      "outputs": [],
      "source": [
        "# dataframe to be mapped with \n",
        "cat=[]\n",
        "ver=[]\n",
        "x=None\n",
        "y=None\n",
        "for item in data:\n",
        "    x=item['exchange_id']\n",
        "    y=item['name']\n",
        "    cat.append(y)\n",
        "    ver.append(x)\n",
        "    \n",
        "cat=pd.Series(cat)\n",
        "ver=pd.Series(ver)\n",
        "\n",
        "map_dataframe2=pd.concat([cat,ver],axis=1)\n",
        "headerList = ['name', 'exchange_id']\n",
        "\n",
        "map_dataframe2.to_csv('mapping_dataframe.csv', header=headerList, index=False)\n",
        "\n",
        "xyz2=pd.read_csv('mapping_dataframe.csv')\n",
        "# resulting mapped dataframe\n",
        "df3 =xyz2.merge(xyz1, on='exchange_id', how='left')\n",
        "# saving the result dataframe to csv file\n",
        "df3.to_csv('result_mapped.csv', index=False)\n"
      ]
    },
    {
      "cell_type": "markdown",
      "metadata": {
        "id": "5BfwamkXyNLi"
      },
      "source": [
        "**filtering from dataframe.**"
      ]
    },
    {
      "cell_type": "code",
      "execution_count": 7,
      "metadata": {
        "colab": {
          "base_uri": "https://localhost:8080/"
        },
        "id": "4dVMG1huyQjw",
        "outputId": "ff0166a1-85fd-45b4-e9bc-f5ff0e0562d1"
      },
      "outputs": [
        {
          "data": {
            "text/plain": [
              "0     https://www.binance.com\n",
              "1    https://pro.coinbase.com\n",
              "Name: website, dtype: object"
            ]
          },
          "execution_count": 7,
          "metadata": {},
          "output_type": "execute_result"
        }
      ],
      "source": [
        "# choosing only data based on filter\n",
        "filt = (df3['name'] == 'Binance') | (df3['exchange_id'] == 'COINBASE')\n",
        "df3.loc[filt, 'website']\n"
      ]
    },
    {
      "cell_type": "code",
      "execution_count": 8,
      "metadata": {
        "colab": {
          "base_uri": "https://localhost:8080/"
        },
        "id": "UlpwvnK1zZB7",
        "outputId": "43ff8793-1635-47d9-e696-4ccb239fabd5"
      },
      "outputs": [
        {
          "data": {
            "text/plain": [
              "2       https://www.huobi.com\n",
              "3      https://www.kraken.com\n",
              "4    https://www.bitfinex.com\n",
              "5    https://www.poloniex.com\n",
              "Name: website, dtype: object"
            ]
          },
          "execution_count": 8,
          "metadata": {},
          "output_type": "execute_result"
        }
      ],
      "source": [
        "#choosing all other expect the filter\n",
        "df3.loc[~filt, 'website']"
      ]
    },
    {
      "cell_type": "markdown",
      "metadata": {
        "id": "stWC9HUb7SX_"
      },
      "source": [
        "**filtering date column**"
      ]
    },
    {
      "cell_type": "code",
      "execution_count": 9,
      "metadata": {
        "colab": {
          "base_uri": "https://localhost:8080/",
          "height": 112
        },
        "id": "b9TP6ulq7ViE",
        "outputId": "72a1b49e-1efb-4fed-967c-7eed3341a69f"
      },
      "outputs": [
        {
          "data": {
            "text/html": [
              "\n",
              "  <div id=\"df-7743d39b-f1cd-4d5f-9cfc-6899f16e2629\">\n",
              "    <div class=\"colab-df-container\">\n",
              "      <div>\n",
              "<style scoped>\n",
              "    .dataframe tbody tr th:only-of-type {\n",
              "        vertical-align: middle;\n",
              "    }\n",
              "\n",
              "    .dataframe tbody tr th {\n",
              "        vertical-align: top;\n",
              "    }\n",
              "\n",
              "    .dataframe thead th {\n",
              "        text-align: right;\n",
              "    }\n",
              "</style>\n",
              "<table border=\"1\" class=\"dataframe\">\n",
              "  <thead>\n",
              "    <tr style=\"text-align: right;\">\n",
              "      <th></th>\n",
              "      <th>num_posts</th>\n",
              "      <th>date</th>\n",
              "    </tr>\n",
              "  </thead>\n",
              "  <tbody>\n",
              "    <tr>\n",
              "      <th>0</th>\n",
              "      <td>4</td>\n",
              "      <td>2020-08-09</td>\n",
              "    </tr>\n",
              "    <tr>\n",
              "      <th>1</th>\n",
              "      <td>6</td>\n",
              "      <td>2020-08-25</td>\n",
              "    </tr>\n",
              "  </tbody>\n",
              "</table>\n",
              "</div>\n",
              "      <button class=\"colab-df-convert\" onclick=\"convertToInteractive('df-7743d39b-f1cd-4d5f-9cfc-6899f16e2629')\"\n",
              "              title=\"Convert this dataframe to an interactive table.\"\n",
              "              style=\"display:none;\">\n",
              "        \n",
              "  <svg xmlns=\"http://www.w3.org/2000/svg\" height=\"24px\"viewBox=\"0 0 24 24\"\n",
              "       width=\"24px\">\n",
              "    <path d=\"M0 0h24v24H0V0z\" fill=\"none\"/>\n",
              "    <path d=\"M18.56 5.44l.94 2.06.94-2.06 2.06-.94-2.06-.94-.94-2.06-.94 2.06-2.06.94zm-11 1L8.5 8.5l.94-2.06 2.06-.94-2.06-.94L8.5 2.5l-.94 2.06-2.06.94zm10 10l.94 2.06.94-2.06 2.06-.94-2.06-.94-.94-2.06-.94 2.06-2.06.94z\"/><path d=\"M17.41 7.96l-1.37-1.37c-.4-.4-.92-.59-1.43-.59-.52 0-1.04.2-1.43.59L10.3 9.45l-7.72 7.72c-.78.78-.78 2.05 0 2.83L4 21.41c.39.39.9.59 1.41.59.51 0 1.02-.2 1.41-.59l7.78-7.78 2.81-2.81c.8-.78.8-2.07 0-2.86zM5.41 20L4 18.59l7.72-7.72 1.47 1.35L5.41 20z\"/>\n",
              "  </svg>\n",
              "      </button>\n",
              "      \n",
              "  <style>\n",
              "    .colab-df-container {\n",
              "      display:flex;\n",
              "      flex-wrap:wrap;\n",
              "      gap: 12px;\n",
              "    }\n",
              "\n",
              "    .colab-df-convert {\n",
              "      background-color: #E8F0FE;\n",
              "      border: none;\n",
              "      border-radius: 50%;\n",
              "      cursor: pointer;\n",
              "      display: none;\n",
              "      fill: #1967D2;\n",
              "      height: 32px;\n",
              "      padding: 0 0 0 0;\n",
              "      width: 32px;\n",
              "    }\n",
              "\n",
              "    .colab-df-convert:hover {\n",
              "      background-color: #E2EBFA;\n",
              "      box-shadow: 0px 1px 2px rgba(60, 64, 67, 0.3), 0px 1px 3px 1px rgba(60, 64, 67, 0.15);\n",
              "      fill: #174EA6;\n",
              "    }\n",
              "\n",
              "    [theme=dark] .colab-df-convert {\n",
              "      background-color: #3B4455;\n",
              "      fill: #D2E3FC;\n",
              "    }\n",
              "\n",
              "    [theme=dark] .colab-df-convert:hover {\n",
              "      background-color: #434B5C;\n",
              "      box-shadow: 0px 1px 3px 1px rgba(0, 0, 0, 0.15);\n",
              "      filter: drop-shadow(0px 1px 2px rgba(0, 0, 0, 0.3));\n",
              "      fill: #FFFFFF;\n",
              "    }\n",
              "  </style>\n",
              "\n",
              "      <script>\n",
              "        const buttonEl =\n",
              "          document.querySelector('#df-7743d39b-f1cd-4d5f-9cfc-6899f16e2629 button.colab-df-convert');\n",
              "        buttonEl.style.display =\n",
              "          google.colab.kernel.accessAllowed ? 'block' : 'none';\n",
              "\n",
              "        async function convertToInteractive(key) {\n",
              "          const element = document.querySelector('#df-7743d39b-f1cd-4d5f-9cfc-6899f16e2629');\n",
              "          const dataTable =\n",
              "            await google.colab.kernel.invokeFunction('convertToInteractive',\n",
              "                                                     [key], {});\n",
              "          if (!dataTable) return;\n",
              "\n",
              "          const docLinkHtml = 'Like what you see? Visit the ' +\n",
              "            '<a target=\"_blank\" href=https://colab.research.google.com/notebooks/data_table.ipynb>data table notebook</a>'\n",
              "            + ' to learn more about interactive tables.';\n",
              "          element.innerHTML = '';\n",
              "          dataTable['output_type'] = 'display_data';\n",
              "          await google.colab.output.renderOutput(dataTable, element);\n",
              "          const docLink = document.createElement('div');\n",
              "          docLink.innerHTML = docLinkHtml;\n",
              "          element.appendChild(docLink);\n",
              "        }\n",
              "      </script>\n",
              "    </div>\n",
              "  </div>\n",
              "  "
            ],
            "text/plain": [
              "   num_posts       date\n",
              "0          4 2020-08-09\n",
              "1          6 2020-08-25"
            ]
          },
          "execution_count": 9,
          "metadata": {},
          "output_type": "execute_result"
        }
      ],
      "source": [
        "# Create a sample dataframe\n",
        "df = pd.DataFrame({'num_posts': [4, 6, 3, 9, 1, 14, 2, 5, 7, 2],\n",
        "                   'date': ['2020-08-09', '2020-08-25',\n",
        "                            '2020-09-05', '2020-09-12',\n",
        "                            '2020-09-29', '2020-10-15',\n",
        "                            '2020-11-21', '2020-12-02',\n",
        "                            '2020-12-10', '2020-12-18']})\n",
        "  \n",
        "# Convert the date to datetime64\n",
        "df['date'] = pd.to_datetime(df['date'], format='%Y-%m-%d')\n",
        "  \n",
        "# Filter data between two dates\n",
        "filtered_df = df.query(\"date >= '2020-08-01' \\\n",
        "                       and date < '2020-09-01'\")\n",
        "  \n",
        "# Display\n",
        "filtered_df"
      ]
    }
  ],
  "metadata": {
    "colab": {
      "authorship_tag": "ABX9TyONbrQit+aZM8qH7UPBO+v2",
      "include_colab_link": true,
      "provenance": []
    },
    "kernelspec": {
      "display_name": "Python 3.10.7 64-bit",
      "language": "python",
      "name": "python3"
    },
    "language_info": {
      "name": "python",
      "version": "3.10.7"
    },
    "vscode": {
      "interpreter": {
        "hash": "369f2c481f4da34e4445cda3fffd2e751bd1c4d706f27375911949ba6bb62e1c"
      }
    }
  },
  "nbformat": 4,
  "nbformat_minor": 0
}
